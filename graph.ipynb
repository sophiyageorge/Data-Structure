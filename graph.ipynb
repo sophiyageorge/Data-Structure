{
 "cells": [
  {
   "cell_type": "code",
   "execution_count": 1,
   "metadata": {},
   "outputs": [
    {
     "name": "stdout",
     "output_type": "stream",
     "text": [
      "Neighbors of B ['D', 'E']\n"
     ]
    }
   ],
   "source": [
    "graph = {\n",
    "    'A': ['B', 'C'],\n",
    "    'B': ['D', 'E'],\n",
    "    'C': ['F'],\n",
    "    'D': [],\n",
    "    'E': ['F'],\n",
    "    'F': []\n",
    "}\n",
    "\n",
    "print(\"Neighbors of B\",graph['B'])"
   ]
  },
  {
   "cell_type": "code",
   "execution_count": 10,
   "metadata": {},
   "outputs": [
    {
     "name": "stdout",
     "output_type": "stream",
     "text": [
      "adjacency matrix\n",
      "0 1 1 0\n",
      "1 0 1 0\n",
      "1 1 0 1\n",
      "0 0 1 0\n"
     ]
    }
   ],
   "source": [
    "# Graph reprersentations\n",
    "#  1. Adjacency Matrix\n",
    "# 2. Adjacency list\n",
    "\n",
    "#  graph representation using Matrix\n",
    "\n",
    "def add_edge(mat, i,j):\n",
    "    mat[i][j] = 1\n",
    "    mat[j][i] = 1\n",
    "\n",
    "def display_matrix(mat):\n",
    "    for row in mat:\n",
    "        print(\" \".join(map(str,row)))\n",
    "\n",
    "V = 4\n",
    "mat = [[0] * V for _ in range(V)]\n",
    "\n",
    "add_edge(mat, 0, 1)\n",
    "\n",
    "add_edge(mat, 0, 2)\n",
    "\n",
    "add_edge(mat, 1, 2)\n",
    "\n",
    "add_edge(mat, 2, 3)\n",
    "\n",
    "print(\"adjacency matrix\")\n",
    "display_matrix(mat)"
   ]
  },
  {
   "cell_type": "code",
   "execution_count": 11,
   "metadata": {},
   "outputs": [
    {
     "name": "stdout",
     "output_type": "stream",
     "text": [
      "adjacency list\n",
      "0 :  1 2 \n",
      "1 :  0 2 \n",
      "2 :  0 1 3 \n",
      "3 :  2 \n"
     ]
    }
   ],
   "source": [
    "#  graph representation using adjacency list\n",
    "\n",
    "def add_adj(adj, i,j):\n",
    "    adj[i].append(j)\n",
    "    adj[j].append(i)\n",
    "\n",
    "def display_adj_list(adj):\n",
    "    for i in range(len(adj)):\n",
    "        print(f\"{i} : \", end=\" \")\n",
    "        for j in adj[i]:\n",
    "            print(j, end=\" \")\n",
    "        print()\n",
    "\n",
    "\n",
    "V = 4\n",
    "adj = [[] for _ in range(V)]\n",
    "\n",
    "add_adj(adj, 0, 1)\n",
    "\n",
    "add_adj(adj, 0, 2)\n",
    "\n",
    "add_adj(adj, 1, 2)\n",
    "\n",
    "add_adj(adj, 2, 3)\n",
    "\n",
    "print(\"adjacency list\")\n",
    "\n",
    "display_adj_list(adj)"
   ]
  },
  {
   "cell_type": "code",
   "execution_count": 23,
   "metadata": {},
   "outputs": [
    {
     "name": "stdout",
     "output_type": "stream",
     "text": [
      "1 2 0 3 4 "
     ]
    }
   ],
   "source": [
    "from collections import deque\n",
    "\n",
    "# BFS algorithm to print the BFS traversal of a graph\n",
    "def bfs(adj,s):\n",
    "\n",
    "    # initially mark all the vertices as not visited\n",
    "    visited = [False for _ in range(len(adj))]\n",
    "\n",
    "    # Create a queue \n",
    "    q = deque()\n",
    "\n",
    "    # Mark the source vertex as visited\n",
    "    visited[s] = True\n",
    "    # Enqueue the source vertex\n",
    "    q.append(s)\n",
    "\n",
    "    # Process until the queue is empty\n",
    "    while(q):\n",
    "\n",
    "        # Dequeue a vertex from the queue\n",
    "        curr = q.popleft()\n",
    "        # Print the vertex\n",
    "        print(curr,end=\" \")\n",
    "        # Get all adjacent vertices of the dequeued vertex\n",
    "        # if adjacent vertex not visited \n",
    "        # mark it visited and enqueue it\n",
    "        for i in adj[curr]:\n",
    "            if not visited[i]:\n",
    "                visited[i] = True\n",
    "                q.append(i)\n",
    "\n",
    "# Function to add an edge to the graph\n",
    "def add_edge(adj,u,v):\n",
    "    adj[u].append(v)\n",
    "    adj[v].append(u)\n",
    "\n",
    "# Number of vertices\n",
    "V= 5\n",
    "\n",
    "# Create a graph using adjacency list\n",
    "adj = [[] for _ in range(V)]\n",
    "\n",
    "# Add edges to the graph\n",
    "edge=[[1,2],[2,3],[2,4],[1,0]]\n",
    "\n",
    "# Add edges to the adjacency list of the graph\n",
    "for e in edge:\n",
    "    add_edge(adj,e[0],e[1])\n",
    "\n",
    "# Print BFS traversal from vertex 1\n",
    "bfs(adj,1)"
   ]
  },
  {
   "cell_type": "code",
   "execution_count": 23,
   "metadata": {},
   "outputs": [
    {
     "name": "stdout",
     "output_type": "stream",
     "text": [
      "Breadth First Search traversal of graph starting from vertex 0:\n",
      "0 1 2 3 4 5 "
     ]
    }
   ],
   "source": [
    "from collections import deque\n",
    "\n",
    "# BFS\n",
    "def bfs(adj, s,visited):\n",
    "\n",
    "    # create a queue for BFS\n",
    "    q = deque()\n",
    "\n",
    "    # Initially mark all vertices as not visited \n",
    "    # when we push a vertyex to q we mark it as visited\n",
    "\n",
    "    #  \n",
    "    # visited = [False]*len(adj)\n",
    "\n",
    "    # mark the source node as visited and enqueue it\n",
    "    visited[s] = True\n",
    "    q.append(s)\n",
    "\n",
    "    # iterate over the queue\n",
    "    while q:\n",
    "\n",
    "        curr = q.popleft()\n",
    "        print(curr, end=\" \")\n",
    "\n",
    "        # get all adjacent vetices of the dequeued vertex\n",
    "        #  if an adjacent has not been visited \n",
    "        #  mark it visited and enqueue it\n",
    "\n",
    "        for x in adj[curr]:\n",
    "            if not visited[x]:\n",
    "                visited[x]  = True\n",
    "                q.append(x)\n",
    "\n",
    "#  BFS for disconnected graph\n",
    "\n",
    "def bfs_disconnected(adj):\n",
    "    visited = [False]* len(adj) # not visited\n",
    "\n",
    "    for i in range(len(adj)):\n",
    "        if not visited[i]:\n",
    "            bfs(adj,i,visited)\n",
    "#  function to add edges to graph\n",
    "\n",
    "def add_edge(adj,i,j):\n",
    "    adj[i].append(j)\n",
    "    adj[j].append(i)\n",
    "\n",
    "V = 6\n",
    "\n",
    "adj = [[] for _ in range(V)]\n",
    "\n",
    "add_edge(adj,0,1)\n",
    "add_edge(adj,1,2)\n",
    "add_edge(adj,4,3)\n",
    "add_edge(adj,5,3)\n",
    "add_adj(adj,5,4)\n",
    "\n",
    "print(\"Breadth First Search traversal of graph starting from vertex 0:\")\n",
    "bfs_disconnected(adj)\n",
    "\n",
    "\n",
    "\n",
    "\n",
    "\n",
    "\n",
    "\n",
    "\n",
    "\n"
   ]
  },
  {
   "cell_type": "code",
   "execution_count": 29,
   "metadata": {},
   "outputs": [
    {
     "name": "stdout",
     "output_type": "stream",
     "text": [
      "1 2 0 3 4 "
     ]
    }
   ],
   "source": [
    "#  Depth first search\n",
    "\n",
    "def dfs_rec(adj,visited,s):\n",
    "    visited[s] = True\n",
    "\n",
    "    print(s, end=\" \")\n",
    "\n",
    "    for i in adj[s]:\n",
    "        if not visited[i]:\n",
    "            dfs_rec(adj,visited,i)\n",
    "\n",
    "def dfs(adj,s):\n",
    "    visited = [False] * len(adj)\n",
    "    dfs_rec(adj,visited,s)\n",
    "\n",
    "def adj_edg(adj, s, d):\n",
    "    adj[s] = d\n",
    "    adj[d] = s\n",
    "\n",
    "V =5\n",
    "\n",
    "edges = [[1,2] , [1,0], [2,0], [2,3],[2,4]]\n",
    "adj = [[] for _ in range(V)]\n",
    "for e in edges:\n",
    "    add_edge(adj,e[0],e[1])\n",
    "\n",
    "source = 1\n",
    "dfs(adj,source)\n",
    "\n",
    "\n",
    "\n"
   ]
  },
  {
   "cell_type": "code",
   "execution_count": 14,
   "metadata": {},
   "outputs": [
    {
     "name": "stdout",
     "output_type": "stream",
     "text": [
      "0 3 2 1 4 "
     ]
    }
   ],
   "source": [
    "# depth first search iterative approch\n",
    "\n",
    "class Graph:\n",
    "    def __init__(self,V):\n",
    "        self.V = V\n",
    "        self.adj = [[] for i in range(V)]\n",
    "\n",
    "\n",
    "    def addEdges(self,v,w):\n",
    "        self.adj[v].append(w)\n",
    "\n",
    "    def DFS(self,s):\n",
    "        visited = [False for i in range(self.V)]\n",
    "\n",
    "        stack = []\n",
    "        stack.append(s)\n",
    "        \n",
    "        while(len(stack)):\n",
    "            s = stack[-1]\n",
    "            stack.pop()\n",
    "           \n",
    "            if (not visited[s]):\n",
    "          \n",
    "                print(s,end =\" \")\n",
    "                visited[s] = True\n",
    "\n",
    "            for i in self.adj[s]:\n",
    "                if not visited[i]:\n",
    "                    stack.append(i)\n",
    "    \n",
    "g = Graph(5)\n",
    "g.addEdges(0, 1)\n",
    "g.addEdges(0, 2)\n",
    "g.addEdges(2, 1)\n",
    "g.addEdges(0,3)\n",
    "g.addEdges(1, 4)\n",
    "\n",
    "g.DFS(0)\n",
    "\n",
    "\n"
   ]
  },
  {
   "cell_type": "code",
   "execution_count": 6,
   "metadata": {},
   "outputs": [
    {
     "ename": "TypeError",
     "evalue": "unhashable type: 'list'",
     "output_type": "error",
     "traceback": [
      "\u001b[1;31m---------------------------------------------------------------------------\u001b[0m",
      "\u001b[1;31mTypeError\u001b[0m                                 Traceback (most recent call last)",
      "Cell \u001b[1;32mIn[6], line 20\u001b[0m\n\u001b[0;32m     16\u001b[0m             queue\u001b[38;5;241m.\u001b[39mextend(neighbor \u001b[38;5;28;01mfor\u001b[39;00m neighbor \u001b[38;5;129;01min\u001b[39;00m graph[node] \u001b[38;5;28;01mif\u001b[39;00m  neighbor \u001b[38;5;129;01mnot\u001b[39;00m \u001b[38;5;129;01min\u001b[39;00m visited )\n\u001b[0;32m     18\u001b[0m     \u001b[38;5;28;01mreturn\u001b[39;00m traversal_order\n\u001b[1;32m---> 20\u001b[0m \u001b[38;5;28mprint\u001b[39m(bfs(graph,[\u001b[38;5;124m'\u001b[39m\u001b[38;5;124mA\u001b[39m\u001b[38;5;124m'\u001b[39m]))\n",
      "Cell \u001b[1;32mIn[6], line 13\u001b[0m, in \u001b[0;36mbfs\u001b[1;34m(graph, start)\u001b[0m\n\u001b[0;32m     11\u001b[0m \u001b[38;5;28;01mwhile\u001b[39;00m queue:\n\u001b[0;32m     12\u001b[0m     node \u001b[38;5;241m=\u001b[39m queue\u001b[38;5;241m.\u001b[39mpopleft()\n\u001b[1;32m---> 13\u001b[0m     \u001b[38;5;28;01mif\u001b[39;00m node \u001b[38;5;129;01mnot\u001b[39;00m \u001b[38;5;129;01min\u001b[39;00m visited:\n\u001b[0;32m     14\u001b[0m         visited\u001b[38;5;241m.\u001b[39madd(node)\n\u001b[0;32m     15\u001b[0m         traversal_order\u001b[38;5;241m.\u001b[39mappend(node)\n",
      "\u001b[1;31mTypeError\u001b[0m: unhashable type: 'list'"
     ]
    }
   ],
   "source": [
    "# graph taversal\n",
    "# BFS Breadth First Search\n",
    "from collections import deque\n",
    "def bfs(graph,start):\n",
    "\n",
    "    visited = set()\n",
    "    queue = deque([start])\n",
    "\n",
    "    traversal_order = []\n",
    "\n",
    "    while queue:\n",
    "        node = queue.popleft()\n",
    "        if node not in visited:\n",
    "            visited.add(node)\n",
    "            traversal_order.append(node)\n",
    "            queue.extend(neighbor for neighbor in graph[node] if  neighbor not in visited )\n",
    "\n",
    "    return traversal_order\n",
    "\n",
    "print(bfs(graph,['A']))\n"
   ]
  }
 ],
 "metadata": {
  "kernelspec": {
   "display_name": "base",
   "language": "python",
   "name": "python3"
  },
  "language_info": {
   "codemirror_mode": {
    "name": "ipython",
    "version": 3
   },
   "file_extension": ".py",
   "mimetype": "text/x-python",
   "name": "python",
   "nbconvert_exporter": "python",
   "pygments_lexer": "ipython3",
   "version": "3.11.5"
  }
 },
 "nbformat": 4,
 "nbformat_minor": 2
}
