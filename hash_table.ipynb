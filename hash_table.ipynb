{
 "cells": [
  {
   "cell_type": "code",
   "execution_count": null,
   "metadata": {},
   "outputs": [],
   "source": [
    "# https://chatgpt.com/share/671db7a0-ed40-8006-be87-b3fb1159d001\n",
    "# linke to chatgpt note\n",
    "\n",
    "# https://chatgpt.com/share/671db7a0-ed40-8006-be87-b3fb1159d001"
   ]
  },
  {
   "cell_type": "code",
   "execution_count": 3,
   "metadata": {},
   "outputs": [
    {
     "name": "stdout",
     "output_type": "stream",
     "text": [
      "Displaying hash table after insertions:\n",
      "Bucket 0: [['apple', 10]]\n",
      "Bucket 1: []\n",
      "Bucket 2: []\n",
      "Bucket 3: []\n",
      "Bucket 4: []\n",
      "Bucket 5: []\n",
      "Bucket 6: []\n",
      "Bucket 7: [['grape', 30]]\n",
      "Bucket 8: []\n",
      "Bucket 9: [['banana', 20]]\n",
      "\n",
      "Retrieve 'apple': 10\n",
      "Retrieve 'banana': 20\n",
      "\n",
      "Deleting 'banana'\n",
      "Bucket 0: [['apple', 10]]\n",
      "Bucket 1: []\n",
      "Bucket 2: []\n",
      "Bucket 3: []\n",
      "Bucket 4: []\n",
      "Bucket 5: []\n",
      "Bucket 6: []\n",
      "Bucket 7: [['grape', 30]]\n",
      "Bucket 8: []\n",
      "Bucket 9: []\n"
     ]
    }
   ],
   "source": [
    "#  implementing hash table in python\n",
    "# chaining for collision resolution\n",
    "\n",
    "class HashTable:\n",
    "    def __init__(self,size=10):\n",
    "        self.size=size\n",
    "        self.table = [[] for _ in range(self.size)]\n",
    "        \n",
    "\n",
    "    def _hash_function(self,key):\n",
    "        # simple hash function :sum of character codes  modulo table size\n",
    "        return sum(ord(char) for char in str(key)) % self.size\n",
    "\n",
    "    def insert(self,key,value):\n",
    "\n",
    "        index = self._hash_function(key)\n",
    "\n",
    "        # check if key exits in bucket\n",
    "        for item in self.table[index]:\n",
    "            if item[0] == key:\n",
    "                item[1] = value\n",
    "                return\n",
    "        \n",
    "        # if the key does not exists \n",
    "        self.table[index].append([key,value])\n",
    "\n",
    "    def get(self, key):\n",
    "        # Get the bucket index\n",
    "        index = self._hash_function(key)\n",
    "        \n",
    "        # Search for the key in the bucket\n",
    "        for item in self.table[index]:\n",
    "            if item[0] == key:\n",
    "                return item[1]  # Return value if key is found\n",
    "        \n",
    "        # If key is not found\n",
    "        return None\n",
    "\n",
    "    def delete(self, key):\n",
    "        # Get the bucket index\n",
    "        index = self._hash_function(key)\n",
    "        \n",
    "        # Search for the key and remove it if found\n",
    "        for i, item in enumerate(self.table[index]):\n",
    "            if item[0] == key:\n",
    "                del self.table[index][i]\n",
    "                return True\n",
    "        \n",
    "        # If key is not found\n",
    "        return False\n",
    "\n",
    "    def display(self):\n",
    "        for i, bucket in enumerate(self.table):\n",
    "            print(f\"Bucket {i}: {bucket}\")\n",
    "\n",
    "# Example usage\n",
    "hash_table = HashTable()\n",
    "hash_table.insert(\"apple\", 10)\n",
    "hash_table.insert(\"banana\", 20)\n",
    "hash_table.insert(\"grape\", 30)\n",
    "\n",
    "print(\"Displaying hash table after insertions:\")\n",
    "hash_table.display()\n",
    "\n",
    "print(\"\\nRetrieve 'apple':\", hash_table.get(\"apple\"))\n",
    "print(\"Retrieve 'banana':\", hash_table.get(\"banana\"))\n",
    "\n",
    "print(\"\\nDeleting 'banana'\")\n",
    "hash_table.delete(\"banana\")\n",
    "hash_table.display()\n",
    "\n",
    "\n",
    "\n"
   ]
  },
  {
   "cell_type": "code",
   "execution_count": 6,
   "metadata": {},
   "outputs": [
    {
     "name": "stdout",
     "output_type": "stream",
     "text": [
      "The list printed sorted by age\n",
      "[{'name': 'Banana', 'Age': 20}, {'name': 'Nihal', 'Age': 23}, {'name': 'Greeshma', 'Age': 25}, {'name': 'Seena', 'Age': 26}, {'name': 'Midhun', 'Age': 30}]\n",
      "sorted by age and name\n",
      "[{'name': 'Banana', 'Age': 20}, {'name': 'Nihal', 'Age': 23}, {'name': 'Greeshma', 'Age': 25}, {'name': 'Seena', 'Age': 26}, {'name': 'Midhun', 'Age': 30}]\n",
      "sorted by age and name in descending order\n",
      "[{'name': 'Midhun', 'Age': 30}, {'name': 'Seena', 'Age': 26}, {'name': 'Greeshma', 'Age': 25}, {'name': 'Nihal', 'Age': 23}, {'name': 'Banana', 'Age': 20}]\n"
     ]
    }
   ],
   "source": [
    "#sort list dictionaries by value\n",
    "\n",
    "list = [\n",
    "    {\"name\" : \"Banana\",\n",
    "    \"Age\" : 20},\n",
    "    {\"name\": \"Greeshma\", \"Age\":25},\n",
    "    {\"name\":\"Midhun\" , \"Age\":30},\n",
    "    {\"name\": \"Nihal\", \"Age\":23},\n",
    "    {\"name\": \"Seena\", \"Age\":26}\n",
    "]\n",
    "\n",
    "print(\"The list printed sorted by age\")\n",
    "print(sorted(list,key = lambda i: (i['Age'])))\n",
    "\n",
    "print(\"sorted by age and name\")\n",
    "print(sorted(list, key= lambda i : (i[\"Age\"],i[\"name\"])))\n",
    "\n",
    "print(\"sorted by age and name in descending order\")\n",
    "print(sorted(list, key = lambda i : (i[\"Age\"] , i[\"name\"]),reverse=True)) "
   ]
  },
  {
   "cell_type": "code",
   "execution_count": 8,
   "metadata": {},
   "outputs": [
    {
     "name": "stdout",
     "output_type": "stream",
     "text": [
      "Counter({'g': 2, 'o': 2, 'l': 1, 'e': 1})\n",
      "g\n",
      "o\n"
     ]
    }
   ],
   "source": [
    "# Find all duplicate characters in string\n",
    "\n",
    "from collections import Counter\n",
    "\n",
    "def find_dup_char(input):\n",
    "    WC = Counter(input)\n",
    "    print(WC)\n",
    "    for letter, count in WC.items():\n",
    "        if (count > 1):\n",
    "            print(letter)\n",
    "\n",
    "find_dup_char(\"google\")"
   ]
  },
  {
   "cell_type": "code",
   "execution_count": 9,
   "metadata": {},
   "outputs": [
    {
     "name": "stdout",
     "output_type": "stream",
     "text": [
      "python is great and java also\n"
     ]
    }
   ],
   "source": [
    "# Remove all duplicate words from a given sentence\n",
    "\n",
    "String = \"python is great and java also great\"\n",
    "String = String.split(\" \")\n",
    "\n",
    "count = Counter(String)\n",
    "\n",
    "s = \" \".join(count.keys())\n",
    "print(s)"
   ]
  },
  {
   "cell_type": "code",
   "execution_count": null,
   "metadata": {},
   "outputs": [],
   "source": []
  }
 ],
 "metadata": {
  "kernelspec": {
   "display_name": "base",
   "language": "python",
   "name": "python3"
  },
  "language_info": {
   "codemirror_mode": {
    "name": "ipython",
    "version": 3
   },
   "file_extension": ".py",
   "mimetype": "text/x-python",
   "name": "python",
   "nbconvert_exporter": "python",
   "pygments_lexer": "ipython3",
   "version": "3.11.5"
  }
 },
 "nbformat": 4,
 "nbformat_minor": 2
}
