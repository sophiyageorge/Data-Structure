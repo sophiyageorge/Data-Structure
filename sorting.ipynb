{
 "cells": [
  {
   "cell_type": "code",
   "execution_count": 1,
   "metadata": {},
   "outputs": [
    {
     "name": "stdout",
     "output_type": "stream",
     "text": [
      "[4, 6, 7, 12, 29, 45, 61, 99]\n"
     ]
    }
   ],
   "source": [
    "# bubble sort\n",
    "\n",
    "def bubble(arr):\n",
    "    n = len(arr)\n",
    "    for i in range(n):\n",
    "        flag = False\n",
    "        for j in range(0,n-i-1):\n",
    "\n",
    "            if arr[j]> arr[j+1] :\n",
    "                arr[j],arr[j+1] = arr[j+1],arr[j]\n",
    "                flag= True\n",
    "\n",
    "        if flag == False:\n",
    "            break\n",
    "\n",
    "    return arr\n",
    "\n",
    "arr = [4,6,7,99,12,45,29,61]\n",
    "print(bubble(arr))\n",
    "\n",
    "# Time Complexity O(n^2) average case and worst case\n",
    "# O(n) for sortteds array\n",
    "# space complexity O(1)\n",
    "\n",
    "\n"
   ]
  },
  {
   "cell_type": "code",
   "execution_count": 10,
   "metadata": {},
   "outputs": [
    {
     "name": "stdout",
     "output_type": "stream",
     "text": [
      "[1, 4, 5, 7, 12]\n"
     ]
    }
   ],
   "source": [
    "# insertion sort\n",
    "\n",
    "def insertion_sort(arr):\n",
    "    for i in range(1,len(arr)):\n",
    "        temp = arr[i]\n",
    "\n",
    "        j = i-1\n",
    "\n",
    "        while j>=0 and  arr[j]>temp:\n",
    "           \n",
    "                arr[j+1] = arr[j]\n",
    "                j -= 1\n",
    "\n",
    "        arr[j+1] = temp\n",
    "    return arr\n",
    "\n",
    "arr = [4,12,5,7,1]\n",
    "print(insertion_sort(arr))\n",
    "\n",
    "\n",
    "# time complexity O(n^2) average and worst case\n",
    "# best case O(n) for sorted array\n",
    "\n",
    "# space complexity O(1)"
   ]
  },
  {
   "cell_type": "code",
   "execution_count": 14,
   "metadata": {},
   "outputs": [
    {
     "name": "stdout",
     "output_type": "stream",
     "text": [
      "[4, 6, 7, 12, 29, 45, 61, 99]\n"
     ]
    }
   ],
   "source": [
    "#  selection sort\n",
    "\n",
    "def selection_sort(arr):\n",
    "    for i in range(len(arr)):\n",
    "         min_index =  i\n",
    "\n",
    "         for j in range(i+1,len(arr)):\n",
    "            if arr[j] < arr[min_index]:\n",
    "                 min_index =j\n",
    "\n",
    "         arr[i],arr[min_index] =  arr[min_index],arr[i]\n",
    "    return arr\n",
    "\n",
    "arr = [4,6,7,99,12,45,29,61]\n",
    "print(selection_sort(arr))\n"
   ]
  }
 ],
 "metadata": {
  "kernelspec": {
   "display_name": "base",
   "language": "python",
   "name": "python3"
  },
  "language_info": {
   "codemirror_mode": {
    "name": "ipython",
    "version": 3
   },
   "file_extension": ".py",
   "mimetype": "text/x-python",
   "name": "python",
   "nbconvert_exporter": "python",
   "pygments_lexer": "ipython3",
   "version": "3.11.5"
  }
 },
 "nbformat": 4,
 "nbformat_minor": 2
}
