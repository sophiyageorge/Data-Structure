{
 "cells": [
  {
   "cell_type": "code",
   "execution_count": 9,
   "metadata": {},
   "outputs": [
    {
     "name": "stdout",
     "output_type": "stream",
     "text": [
      "[1, 2, 3]\n",
      "3\n",
      "1\n",
      "[2, 3]\n"
     ]
    }
   ],
   "source": [
    "#  implement stack\n",
    "\n",
    "class Stack:\n",
    "    def __init__(self):\n",
    "        self.stack = []\n",
    "\n",
    "    def is_empty(self):\n",
    "        return len(self.stack) == 0\n",
    "\n",
    "    def push(self,item):\n",
    "        self.stack.append(item)\n",
    "\n",
    "    def pop(self):\n",
    "        if self.is_empty():\n",
    "            raise IndexError(\"Pop from an empty stack\")\n",
    "        return self.stack.pop(0)\n",
    "\n",
    "    def peek(self):\n",
    "        return self.stack[-1]\n",
    "\n",
    "    def size(self):\n",
    "        return len(self.stack)\n",
    "\n",
    "    def display(self):\n",
    "        print(self.stack)\n",
    "\n",
    "\n",
    "stack = Stack()\n",
    "stack.push(1)\n",
    "stack.push(2)\n",
    "stack.push(3)\n",
    "\n",
    "stack.display()\n",
    "print(stack.peek())\n",
    "print(stack.pop())\n",
    "stack.display()\n",
    "\n"
   ]
  },
  {
   "cell_type": "code",
   "execution_count": 3,
   "metadata": {},
   "outputs": [
    {
     "name": "stdout",
     "output_type": "stream",
     "text": [
      "dlroW olleH\n"
     ]
    }
   ],
   "source": [
    "#  Reverse a String using Stack\n",
    "\n",
    "def reverse_string(data_string):\n",
    "    stack = []\n",
    "\n",
    "    for i in data_string:\n",
    "        stack.append(i)\n",
    "\n",
    "    reversed_string = \"\"\n",
    "    for i in range(len(data_string)):\n",
    "        reversed_string += stack.pop()\n",
    "\n",
    "    return reversed_string\n",
    "\n",
    "print(reverse_string(\"Hello World\"))"
   ]
  },
  {
   "cell_type": "code",
   "execution_count": 12,
   "metadata": {},
   "outputs": [
    {
     "name": "stdout",
     "output_type": "stream",
     "text": [
      "-4\n"
     ]
    }
   ],
   "source": [
    "#  postfix expression evaluation\n",
    "\n",
    "def evaluate(exp):\n",
    "    stack =[]\n",
    "\n",
    "    for i in exp:\n",
    "\n",
    "        if i.isdigit():\n",
    "            stack.append(i)\n",
    "        else:\n",
    "            operand2 ,operand1 = stack.pop(),stack.pop()\n",
    "            result = eval(operand1+i+operand2)\n",
    "          \n",
    "            stack.append(str(result))\n",
    "\n",
    "    return stack.pop()\n",
    "\n",
    "exp = \"231*+9-\"\n",
    "print(evaluate(exp))"
   ]
  },
  {
   "cell_type": "code",
   "execution_count": 10,
   "metadata": {},
   "outputs": [
    {
     "name": "stdout",
     "output_type": "stream",
     "text": [
      "postfix evaluation: -4\n"
     ]
    }
   ],
   "source": [
    "# Python program to evaluate value of a postfix expression\n",
    "\n",
    "\n",
    "# Class to convert the expression\n",
    "class Evaluate:\n",
    "\n",
    "\t# Constructor to initialize the class variables\n",
    "\tdef __init__(self, capacity):\n",
    "\t\tself.top = -1\n",
    "\t\tself.capacity = capacity\n",
    "\t\t\n",
    "\t\t# This array is used a stack\n",
    "\t\tself.array = []\n",
    "\n",
    "\t# Check if the stack is empty\n",
    "\tdef isEmpty(self):\n",
    "\t\treturn True if self.top == -1 else False\n",
    "\n",
    "\t# Return the value of the top of the stack\n",
    "\tdef peek(self):\n",
    "\t\treturn self.array[-1]\n",
    "\n",
    "\t# Pop the element from the stack\n",
    "\tdef pop(self):\n",
    "\t\tif not self.isEmpty():\n",
    "\t\t\tself.top -= 1\n",
    "\t\t\treturn self.array.pop()\n",
    "\t\telse:\n",
    "\t\t\treturn \"$\"\n",
    "\n",
    "\t# Push the element to the stack\n",
    "\tdef push(self, op):\n",
    "\t\tself.top += 1\n",
    "\t\tself.array.append(op)\n",
    "\n",
    "\t# The main function that converts given infix expression\n",
    "\t# to postfix expression\n",
    "\tdef evaluatePostfix(self, exp):\n",
    "\n",
    "\t\t# Iterate over the expression for conversion\n",
    "\t\tfor i in exp:\n",
    "\n",
    "\t\t\t# If the scanned character is an operand\n",
    "\t\t\t# (number here) push it to the stack\n",
    "\t\t\tif i.isdigit():\n",
    "\t\t\t\tself.push(i)\n",
    "\n",
    "\t\t\t# If the scanned character is an operator,\n",
    "\t\t\t# pop two elements from stack and apply it.\n",
    "\t\t\telse:\n",
    "\t\t\t\tval1 = self.pop()\n",
    "\t\t\t\tval2 = self.pop()\n",
    "\t\t\t\tself.push(str(eval(val2 + i + val1)))\n",
    "\n",
    "\t\treturn int(self.pop())\n",
    "\n",
    "\n",
    "\n",
    "# Driver code\n",
    "if __name__ == '__main__':\n",
    "\texp = \"231*+9-\"\n",
    "\tobj = Evaluate(len(exp))\n",
    "\t\n",
    "\t# Function call\n",
    "\tprint(\"postfix evaluation: %d\" % (obj.evaluatePostfix(exp)))\n",
    "\n",
    "\t\n",
    "# This code is contributed by Nikhil Kumar Singh(nickzuck_007)\n"
   ]
  }
 ],
 "metadata": {
  "kernelspec": {
   "display_name": "base",
   "language": "python",
   "name": "python3"
  },
  "language_info": {
   "codemirror_mode": {
    "name": "ipython",
    "version": 3
   },
   "file_extension": ".py",
   "mimetype": "text/x-python",
   "name": "python",
   "nbconvert_exporter": "python",
   "pygments_lexer": "ipython3",
   "version": "3.11.5"
  }
 },
 "nbformat": 4,
 "nbformat_minor": 2
}
